{
 "cells": [
  {
   "cell_type": "markdown",
   "id": "c1cc0a36",
   "metadata": {},
   "source": [
    "#         Real Estate - Price Predictor"
   ]
  },
  {
   "cell_type": "code",
   "execution_count": 504,
   "id": "bcec2e79",
   "metadata": {},
   "outputs": [],
   "source": [
    "import pandas as pd"
   ]
  },
  {
   "cell_type": "code",
   "execution_count": 505,
   "id": "b256ebd1",
   "metadata": {},
   "outputs": [],
   "source": [
    "housing = pd.read_csv('data.csv')"
   ]
  },
  {
   "cell_type": "code",
   "execution_count": 506,
   "id": "39ae1db6",
   "metadata": {},
   "outputs": [
    {
     "data": {
      "text/html": [
       "<div>\n",
       "<style scoped>\n",
       "    .dataframe tbody tr th:only-of-type {\n",
       "        vertical-align: middle;\n",
       "    }\n",
       "\n",
       "    .dataframe tbody tr th {\n",
       "        vertical-align: top;\n",
       "    }\n",
       "\n",
       "    .dataframe thead th {\n",
       "        text-align: right;\n",
       "    }\n",
       "</style>\n",
       "<table border=\"1\" class=\"dataframe\">\n",
       "  <thead>\n",
       "    <tr style=\"text-align: right;\">\n",
       "      <th></th>\n",
       "      <th>No</th>\n",
       "      <th>X1 transaction date</th>\n",
       "      <th>X2 house age</th>\n",
       "      <th>X3 distance to the nearest MRT station</th>\n",
       "      <th>X4 number of convenience stores</th>\n",
       "      <th>X5 latitude</th>\n",
       "      <th>X6 longitude</th>\n",
       "      <th>Y house price of unit area</th>\n",
       "    </tr>\n",
       "  </thead>\n",
       "  <tbody>\n",
       "    <tr>\n",
       "      <th>0</th>\n",
       "      <td>1</td>\n",
       "      <td>2012.917</td>\n",
       "      <td>32.0</td>\n",
       "      <td>84.87882</td>\n",
       "      <td>10</td>\n",
       "      <td>24.98298</td>\n",
       "      <td>121.54024</td>\n",
       "      <td>37.9</td>\n",
       "    </tr>\n",
       "    <tr>\n",
       "      <th>1</th>\n",
       "      <td>2</td>\n",
       "      <td>2012.917</td>\n",
       "      <td>19.5</td>\n",
       "      <td>306.59470</td>\n",
       "      <td>9</td>\n",
       "      <td>24.98034</td>\n",
       "      <td>121.53951</td>\n",
       "      <td>42.2</td>\n",
       "    </tr>\n",
       "    <tr>\n",
       "      <th>2</th>\n",
       "      <td>3</td>\n",
       "      <td>2013.583</td>\n",
       "      <td>13.3</td>\n",
       "      <td>561.98450</td>\n",
       "      <td>5</td>\n",
       "      <td>24.98746</td>\n",
       "      <td>121.54391</td>\n",
       "      <td>47.3</td>\n",
       "    </tr>\n",
       "    <tr>\n",
       "      <th>3</th>\n",
       "      <td>4</td>\n",
       "      <td>2013.500</td>\n",
       "      <td>13.3</td>\n",
       "      <td>561.98450</td>\n",
       "      <td>5</td>\n",
       "      <td>24.98746</td>\n",
       "      <td>121.54391</td>\n",
       "      <td>54.8</td>\n",
       "    </tr>\n",
       "    <tr>\n",
       "      <th>4</th>\n",
       "      <td>5</td>\n",
       "      <td>2012.833</td>\n",
       "      <td>5.0</td>\n",
       "      <td>390.56840</td>\n",
       "      <td>5</td>\n",
       "      <td>24.97937</td>\n",
       "      <td>121.54245</td>\n",
       "      <td>43.1</td>\n",
       "    </tr>\n",
       "  </tbody>\n",
       "</table>\n",
       "</div>"
      ],
      "text/plain": [
       "   No  X1 transaction date  X2 house age  \\\n",
       "0   1             2012.917          32.0   \n",
       "1   2             2012.917          19.5   \n",
       "2   3             2013.583          13.3   \n",
       "3   4             2013.500          13.3   \n",
       "4   5             2012.833           5.0   \n",
       "\n",
       "   X3 distance to the nearest MRT station  X4 number of convenience stores  \\\n",
       "0                                84.87882                               10   \n",
       "1                               306.59470                                9   \n",
       "2                               561.98450                                5   \n",
       "3                               561.98450                                5   \n",
       "4                               390.56840                                5   \n",
       "\n",
       "   X5 latitude  X6 longitude  Y house price of unit area  \n",
       "0     24.98298     121.54024                        37.9  \n",
       "1     24.98034     121.53951                        42.2  \n",
       "2     24.98746     121.54391                        47.3  \n",
       "3     24.98746     121.54391                        54.8  \n",
       "4     24.97937     121.54245                        43.1  "
      ]
     },
     "execution_count": 506,
     "metadata": {},
     "output_type": "execute_result"
    }
   ],
   "source": [
    "housing.head()"
   ]
  },
  {
   "cell_type": "code",
   "execution_count": 507,
   "id": "c911fe71",
   "metadata": {},
   "outputs": [
    {
     "data": {
      "text/plain": [
       "<bound method DataFrame.info of       No  X1 transaction date  X2 house age  \\\n",
       "0      1             2012.917          32.0   \n",
       "1      2             2012.917          19.5   \n",
       "2      3             2013.583          13.3   \n",
       "3      4             2013.500          13.3   \n",
       "4      5             2012.833           5.0   \n",
       "..   ...                  ...           ...   \n",
       "409  410             2013.000          13.7   \n",
       "410  411             2012.667           5.6   \n",
       "411  412             2013.250          18.8   \n",
       "412  413             2013.000           8.1   \n",
       "413  414             2013.500           6.5   \n",
       "\n",
       "     X3 distance to the nearest MRT station  X4 number of convenience stores  \\\n",
       "0                                  84.87882                               10   \n",
       "1                                 306.59470                                9   \n",
       "2                                 561.98450                                5   \n",
       "3                                 561.98450                                5   \n",
       "4                                 390.56840                                5   \n",
       "..                                      ...                              ...   \n",
       "409                              4082.01500                                0   \n",
       "410                                90.45606                                9   \n",
       "411                               390.96960                                7   \n",
       "412                               104.81010                                5   \n",
       "413                                90.45606                                9   \n",
       "\n",
       "     X5 latitude  X6 longitude  Y house price of unit area  \n",
       "0       24.98298     121.54024                        37.9  \n",
       "1       24.98034     121.53951                        42.2  \n",
       "2       24.98746     121.54391                        47.3  \n",
       "3       24.98746     121.54391                        54.8  \n",
       "4       24.97937     121.54245                        43.1  \n",
       "..           ...           ...                         ...  \n",
       "409     24.94155     121.50381                        15.4  \n",
       "410     24.97433     121.54310                        50.0  \n",
       "411     24.97923     121.53986                        40.6  \n",
       "412     24.96674     121.54067                        52.5  \n",
       "413     24.97433     121.54310                        63.9  \n",
       "\n",
       "[414 rows x 8 columns]>"
      ]
     },
     "execution_count": 507,
     "metadata": {},
     "output_type": "execute_result"
    }
   ],
   "source": [
    "housing.info"
   ]
  },
  {
   "cell_type": "code",
   "execution_count": 508,
   "id": "b798fe56",
   "metadata": {},
   "outputs": [
    {
     "data": {
      "text/plain": [
       "5     67\n",
       "0     67\n",
       "3     46\n",
       "1     46\n",
       "6     37\n",
       "7     31\n",
       "4     31\n",
       "8     30\n",
       "9     25\n",
       "2     24\n",
       "10    10\n",
       "Name: X4 number of convenience stores, dtype: int64"
      ]
     },
     "execution_count": 508,
     "metadata": {},
     "output_type": "execute_result"
    }
   ],
   "source": [
    "housing['X4 number of convenience stores'].value_counts()"
   ]
  },
  {
   "cell_type": "code",
   "execution_count": 509,
   "id": "841c9f37",
   "metadata": {},
   "outputs": [
    {
     "data": {
      "text/html": [
       "<div>\n",
       "<style scoped>\n",
       "    .dataframe tbody tr th:only-of-type {\n",
       "        vertical-align: middle;\n",
       "    }\n",
       "\n",
       "    .dataframe tbody tr th {\n",
       "        vertical-align: top;\n",
       "    }\n",
       "\n",
       "    .dataframe thead th {\n",
       "        text-align: right;\n",
       "    }\n",
       "</style>\n",
       "<table border=\"1\" class=\"dataframe\">\n",
       "  <thead>\n",
       "    <tr style=\"text-align: right;\">\n",
       "      <th></th>\n",
       "      <th>No</th>\n",
       "      <th>X1 transaction date</th>\n",
       "      <th>X2 house age</th>\n",
       "      <th>X3 distance to the nearest MRT station</th>\n",
       "      <th>X4 number of convenience stores</th>\n",
       "      <th>X5 latitude</th>\n",
       "      <th>X6 longitude</th>\n",
       "      <th>Y house price of unit area</th>\n",
       "    </tr>\n",
       "  </thead>\n",
       "  <tbody>\n",
       "    <tr>\n",
       "      <th>count</th>\n",
       "      <td>414.000000</td>\n",
       "      <td>414.000000</td>\n",
       "      <td>414.000000</td>\n",
       "      <td>414.000000</td>\n",
       "      <td>414.000000</td>\n",
       "      <td>414.000000</td>\n",
       "      <td>414.000000</td>\n",
       "      <td>414.000000</td>\n",
       "    </tr>\n",
       "    <tr>\n",
       "      <th>mean</th>\n",
       "      <td>207.500000</td>\n",
       "      <td>2013.148971</td>\n",
       "      <td>17.712560</td>\n",
       "      <td>1083.885689</td>\n",
       "      <td>4.094203</td>\n",
       "      <td>24.969030</td>\n",
       "      <td>121.533361</td>\n",
       "      <td>37.980193</td>\n",
       "    </tr>\n",
       "    <tr>\n",
       "      <th>std</th>\n",
       "      <td>119.655756</td>\n",
       "      <td>0.281967</td>\n",
       "      <td>11.392485</td>\n",
       "      <td>1262.109595</td>\n",
       "      <td>2.945562</td>\n",
       "      <td>0.012410</td>\n",
       "      <td>0.015347</td>\n",
       "      <td>13.606488</td>\n",
       "    </tr>\n",
       "    <tr>\n",
       "      <th>min</th>\n",
       "      <td>1.000000</td>\n",
       "      <td>2012.667000</td>\n",
       "      <td>0.000000</td>\n",
       "      <td>23.382840</td>\n",
       "      <td>0.000000</td>\n",
       "      <td>24.932070</td>\n",
       "      <td>121.473530</td>\n",
       "      <td>7.600000</td>\n",
       "    </tr>\n",
       "    <tr>\n",
       "      <th>25%</th>\n",
       "      <td>104.250000</td>\n",
       "      <td>2012.917000</td>\n",
       "      <td>9.025000</td>\n",
       "      <td>289.324800</td>\n",
       "      <td>1.000000</td>\n",
       "      <td>24.963000</td>\n",
       "      <td>121.528085</td>\n",
       "      <td>27.700000</td>\n",
       "    </tr>\n",
       "    <tr>\n",
       "      <th>50%</th>\n",
       "      <td>207.500000</td>\n",
       "      <td>2013.167000</td>\n",
       "      <td>16.100000</td>\n",
       "      <td>492.231300</td>\n",
       "      <td>4.000000</td>\n",
       "      <td>24.971100</td>\n",
       "      <td>121.538630</td>\n",
       "      <td>38.450000</td>\n",
       "    </tr>\n",
       "    <tr>\n",
       "      <th>75%</th>\n",
       "      <td>310.750000</td>\n",
       "      <td>2013.417000</td>\n",
       "      <td>28.150000</td>\n",
       "      <td>1454.279000</td>\n",
       "      <td>6.000000</td>\n",
       "      <td>24.977455</td>\n",
       "      <td>121.543305</td>\n",
       "      <td>46.600000</td>\n",
       "    </tr>\n",
       "    <tr>\n",
       "      <th>max</th>\n",
       "      <td>414.000000</td>\n",
       "      <td>2013.583000</td>\n",
       "      <td>43.800000</td>\n",
       "      <td>6488.021000</td>\n",
       "      <td>10.000000</td>\n",
       "      <td>25.014590</td>\n",
       "      <td>121.566270</td>\n",
       "      <td>117.500000</td>\n",
       "    </tr>\n",
       "  </tbody>\n",
       "</table>\n",
       "</div>"
      ],
      "text/plain": [
       "               No  X1 transaction date  X2 house age  \\\n",
       "count  414.000000           414.000000    414.000000   \n",
       "mean   207.500000          2013.148971     17.712560   \n",
       "std    119.655756             0.281967     11.392485   \n",
       "min      1.000000          2012.667000      0.000000   \n",
       "25%    104.250000          2012.917000      9.025000   \n",
       "50%    207.500000          2013.167000     16.100000   \n",
       "75%    310.750000          2013.417000     28.150000   \n",
       "max    414.000000          2013.583000     43.800000   \n",
       "\n",
       "       X3 distance to the nearest MRT station  \\\n",
       "count                              414.000000   \n",
       "mean                              1083.885689   \n",
       "std                               1262.109595   \n",
       "min                                 23.382840   \n",
       "25%                                289.324800   \n",
       "50%                                492.231300   \n",
       "75%                               1454.279000   \n",
       "max                               6488.021000   \n",
       "\n",
       "       X4 number of convenience stores  X5 latitude  X6 longitude  \\\n",
       "count                       414.000000   414.000000    414.000000   \n",
       "mean                          4.094203    24.969030    121.533361   \n",
       "std                           2.945562     0.012410      0.015347   \n",
       "min                           0.000000    24.932070    121.473530   \n",
       "25%                           1.000000    24.963000    121.528085   \n",
       "50%                           4.000000    24.971100    121.538630   \n",
       "75%                           6.000000    24.977455    121.543305   \n",
       "max                          10.000000    25.014590    121.566270   \n",
       "\n",
       "       Y house price of unit area  \n",
       "count                  414.000000  \n",
       "mean                    37.980193  \n",
       "std                     13.606488  \n",
       "min                      7.600000  \n",
       "25%                     27.700000  \n",
       "50%                     38.450000  \n",
       "75%                     46.600000  \n",
       "max                    117.500000  "
      ]
     },
     "execution_count": 509,
     "metadata": {},
     "output_type": "execute_result"
    }
   ],
   "source": [
    "housing.describe()"
   ]
  },
  {
   "cell_type": "code",
   "execution_count": 510,
   "id": "2348514f",
   "metadata": {},
   "outputs": [],
   "source": [
    "%matplotlib inline"
   ]
  },
  {
   "cell_type": "code",
   "execution_count": 511,
   "id": "e9dbe3d0",
   "metadata": {},
   "outputs": [],
   "source": [
    "import matplotlib.pyplot as plt"
   ]
  },
  {
   "cell_type": "code",
   "execution_count": 512,
   "id": "2c9403c4",
   "metadata": {},
   "outputs": [
    {
     "data": {
      "text/plain": [
       "array([[<Axes: title={'center': 'No'}>,\n",
       "        <Axes: title={'center': 'X1 transaction date'}>,\n",
       "        <Axes: title={'center': 'X2 house age'}>],\n",
       "       [<Axes: title={'center': 'X3 distance to the nearest MRT station'}>,\n",
       "        <Axes: title={'center': 'X4 number of convenience stores'}>,\n",
       "        <Axes: title={'center': 'X5 latitude'}>],\n",
       "       [<Axes: title={'center': 'X6 longitude'}>,\n",
       "        <Axes: title={'center': 'Y house price of unit area'}>, <Axes: >]],\n",
       "      dtype=object)"
      ]
     },
     "execution_count": 512,
     "metadata": {},
     "output_type": "execute_result"
    },
    {
     "data": {
      "image/png": "[encoded data removed]",
      "text/plain": [
       "<Figure size 2000x1500 with 9 Axes>"
      ]
     },
     "metadata": {},
     "output_type": "display_data"
    }
   ],
   "source": [
    "housing.hist(bins=50, figsize=(20, 15))"
   ]
  },
  {
   "cell_type": "markdown",
   "id": "42a99ba9",
   "metadata": {},
   "source": [
    "# Train-Test Splitting"
   ]
  },
  {
   "cell_type": "code",
   "execution_count": 513,
   "id": "d7f4d5a9",
   "metadata": {},
   "outputs": [],
   "source": [
    "## For learning purpose\n",
    "# import numpy as np\n",
    "# def split_train_test(data, test_ratio):\n",
    "#     np.random.seed(42)\n",
    "#     shuffled = np.random.permutation(len(data))\n",
    "#     print(shuffled)\n",
    "#     test_set_size = int(len(data)*test_ratio)\n",
    "#     test_indices = shuffled[:test_set_size]\n",
    "#     train_indices = shuffled[test_set_size:]\n",
    "#     return data.iloc[train_indices], data.iloc[test_indices]"
   ]
  },
  {
   "cell_type": "code",
   "execution_count": 514,
   "id": "6bc25587",
   "metadata": {},
   "outputs": [],
   "source": [
    "# train_set, test_set = split_train_test(housing, 0.2)"
   ]
  },
  {
   "cell_type": "code",
   "execution_count": 515,
   "id": "6c9a53c7",
   "metadata": {},
   "outputs": [],
   "source": [
    "# print(f\"Rows in train set:{len(train_set)} \\nRows in test set:{len(test_set)}\\n\")"
   ]
  },
  {
   "cell_type": "code",
   "execution_count": 516,
   "id": "40997a41",
   "metadata": {},
   "outputs": [
    {
     "name": "stdout",
     "output_type": "stream",
     "text": [
      "Rows in train set:331 \n",
      "Rows in test set:83\n",
      "\n"
     ]
    }
   ],
   "source": [
    "from sklearn.model_selection import train_test_split\n",
    "train_set, test_set = train_test_split(housing, test_size = 0.2, random_state=42)\n",
    "\n",
    "print(f\"Rows in train set:{len(train_set)} \\nRows in test set:{len(test_set)}\\n\")"
   ]
  },
  {
   "cell_type": "code",
   "execution_count": 517,
   "id": "a9c8a2b9",
   "metadata": {},
   "outputs": [],
   "source": [
    "from sklearn.model_selection import StratifiedShuffleSplit\n",
    "split = StratifiedShuffleSplit(n_splits = 1, test_size = 0.2, random_state=42)\n",
    "for train_index, test_index in split.split(housing, housing['X1 transaction date']):\n",
    "        strat_train_set=housing.loc[train_index]\n",
    "        strat_test_set=housing.loc[test_index]                                "
   ]
  },
  {
   "cell_type": "code",
   "execution_count": 518,
   "id": "751f4557",
   "metadata": {},
   "outputs": [
    {
     "name": "stdout",
     "output_type": "stream",
     "text": [
      "<class 'pandas.core.frame.DataFrame'>\n",
      "Int64Index: 83 entries, 170 to 44\n",
      "Data columns (total 8 columns):\n",
      " #   Column                                  Non-Null Count  Dtype  \n",
      "---  ------                                  --------------  -----  \n",
      " 0   No                                      83 non-null     int64  \n",
      " 1   X1 transaction date                     83 non-null     float64\n",
      " 2   X2 house age                            83 non-null     float64\n",
      " 3   X3 distance to the nearest MRT station  83 non-null     float64\n",
      " 4   X4 number of convenience stores         83 non-null     int64  \n",
      " 5   X5 latitude                             83 non-null     float64\n",
      " 6   X6 longitude                            83 non-null     float64\n",
      " 7   Y house price of unit area              83 non-null     float64\n",
      "dtypes: float64(6), int64(2)\n",
      "memory usage: 5.8 KB\n"
     ]
    }
   ],
   "source": [
    "strat_test_set.info()"
   ]
  },
  {
   "cell_type": "code",
   "execution_count": 519,
   "id": "b9a5e8e2",
   "metadata": {},
   "outputs": [
    {
     "data": {
      "text/plain": [
       "2013.417    12\n",
       "2013.083     9\n",
       "2013.500     9\n",
       "2012.917     8\n",
       "2013.333     6\n",
       "2012.833     6\n",
       "2013.000     6\n",
       "2013.250     6\n",
       "2012.667     6\n",
       "2012.750     5\n",
       "2013.167     5\n",
       "2013.583     5\n",
       "Name: X1 transaction date, dtype: int64"
      ]
     },
     "execution_count": 519,
     "metadata": {},
     "output_type": "execute_result"
    }
   ],
   "source": [
    "strat_test_set['X1 transaction date'].value_counts()"
   ]
  },
  {
   "cell_type": "code",
   "execution_count": 520,
   "id": "e3825232",
   "metadata": {},
   "outputs": [
    {
     "data": {
      "text/plain": [
       "2013.417    46\n",
       "2013.500    38\n",
       "2013.083    37\n",
       "2012.917    30\n",
       "2013.250    26\n",
       "2012.833    25\n",
       "2012.667    24\n",
       "2013.333    23\n",
       "2013.000    22\n",
       "2012.750    22\n",
       "2013.167    20\n",
       "2013.583    18\n",
       "Name: X1 transaction date, dtype: int64"
      ]
     },
     "execution_count": 520,
     "metadata": {},
     "output_type": "execute_result"
    }
   ],
   "source": [
    "strat_train_set['X1 transaction date'].value_counts()"
   ]
  },
  {
   "cell_type": "code",
   "execution_count": 521,
   "id": "9e7d9867",
   "metadata": {},
   "outputs": [],
   "source": [
    "# 46/12\n"
   ]
  },
  {
   "cell_type": "code",
   "execution_count": 522,
   "id": "fd4cda6f",
   "metadata": {},
   "outputs": [],
   "source": [
    "# 18/5"
   ]
  },
  {
   "cell_type": "code",
   "execution_count": 523,
   "id": "76b2cd6a",
   "metadata": {},
   "outputs": [],
   "source": [
    "housing = strat_train_set.copy()"
   ]
  },
  {
   "cell_type": "markdown",
   "id": "5722e3c7",
   "metadata": {},
   "source": [
    "# Looking for Corelation"
   ]
  },
  {
   "cell_type": "code",
   "execution_count": 524,
   "id": "f0c080d1",
   "metadata": {},
   "outputs": [
    {
     "data": {
      "text/plain": [
       "Y house price of unit area                1.000000\n",
       "X4 number of convenience stores           0.545551\n",
       "X5 latitude                               0.521617\n",
       "X6 longitude                              0.465676\n",
       "X1 transaction date                       0.093637\n",
       "No                                        0.012800\n",
       "X2 house age                             -0.164624\n",
       "X3 distance to the nearest MRT station   -0.653192\n",
       "Name: Y house price of unit area, dtype: float64"
      ]
     },
     "execution_count": 524,
     "metadata": {},
     "output_type": "execute_result"
    }
   ],
   "source": [
    "corr_matrix = housing.corr()\n",
    "corr_matrix['Y house price of unit area'].sort_values(ascending=False)"
   ]
  },
  {
   "cell_type": "code",
   "execution_count": 525,
   "id": "8b63fd9f",
   "metadata": {},
   "outputs": [],
   "source": [
    "from pandas.plotting import scatter_matrix \n",
    "attributes=['Y house price of unit area', 'X6 longitude', 'X5 latitude' ]"
   ]
  },
  {
   "cell_type": "code",
   "execution_count": 526,
   "id": "5ceb826a",
   "metadata": {},
   "outputs": [
    {
     "data": {
      "text/plain": [
       "array([[<Axes: xlabel='Y house price of unit area', ylabel='Y house price of unit area'>,\n",
       "        <Axes: xlabel='X6 longitude', ylabel='Y house price of unit area'>,\n",
       "        <Axes: xlabel='X5 latitude', ylabel='Y house price of unit area'>],\n",
       "       [<Axes: xlabel='Y house price of unit area', ylabel='X6 longitude'>,\n",
       "        <Axes: xlabel='X6 longitude', ylabel='X6 longitude'>,\n",
       "        <Axes: xlabel='X5 latitude', ylabel='X6 longitude'>],\n",
       "       [<Axes: xlabel='Y house price of unit area', ylabel='X5 latitude'>,\n",
       "        <Axes: xlabel='X6 longitude', ylabel='X5 latitude'>,\n",
       "        <Axes: xlabel='X5 latitude', ylabel='X5 latitude'>]], dtype=object)"
      ]
     },
     "execution_count": 526,
     "metadata": {},
     "output_type": "execute_result"
    },
    {
     "data": {
      "image/png": "[encoded data removed]",
      "text/plain": [
       "<Figure size 1200x900 with 9 Axes>"
      ]
     },
     "metadata": {},
     "output_type": "display_data"
    }
   ],
   "source": [
    "scatter_matrix(housing[attributes], figsize=(12, 9))"
   ]
  },
  {
   "cell_type": "code",
   "execution_count": 527,
   "id": "4856683b",
   "metadata": {},
   "outputs": [
    {
     "data": {
      "text/plain": [
       "<Axes: xlabel='X5 latitude', ylabel='Y house price of unit area'>"
      ]
     },
     "execution_count": 527,
     "metadata": {},
     "output_type": "execute_result"
    },
    {
     "data": {
      "image/png": "[encoded data removed]",
      "text/plain": [
       "<Figure size 640x480 with 1 Axes>"
      ]
     },
     "metadata": {},
     "output_type": "display_data"
    }
   ],
   "source": [
    "housing.plot(kind='scatter', x='X5 latitude', y='Y house price of unit area', alpha=0.8 )"
   ]
  },
  {
   "cell_type": "markdown",
   "id": "0ab3f7e4",
   "metadata": {},
   "source": [
    "# Trying to Attribute combination"
   ]
  },
  {
   "cell_type": "code",
   "execution_count": 528,
   "id": "ec7b9b06",
   "metadata": {},
   "outputs": [],
   "source": [
    "housing['direction'] = housing['X5 latitude']/housing['X6 longitude']"
   ]
  },
  {
   "cell_type": "code",
   "execution_count": 529,
   "id": "f4b6a0d5",
   "metadata": {},
   "outputs": [
    {
     "data": {
      "text/plain": [
       "24     0.205478\n",
       "391    0.205272\n",
       "278    0.205336\n",
       "67     0.205419\n",
       "411    0.205523\n",
       "         ...   \n",
       "337    0.205425\n",
       "52     0.205519\n",
       "71     0.205498\n",
       "325    0.205440\n",
       "225    0.205410\n",
       "Name: direction, Length: 331, dtype: float64"
      ]
     },
     "execution_count": 529,
     "metadata": {},
     "output_type": "execute_result"
    }
   ],
   "source": [
    "housing['direction']"
   ]
  },
  {
   "cell_type": "code",
   "execution_count": 530,
   "id": "5fd3c3d2",
   "metadata": {},
   "outputs": [
    {
     "data": {
      "text/html": [
       "<div>\n",
       "<style scoped>\n",
       "    .dataframe tbody tr th:only-of-type {\n",
       "        vertical-align: middle;\n",
       "    }\n",
       "\n",
       "    .dataframe tbody tr th {\n",
       "        vertical-align: top;\n",
       "    }\n",
       "\n",
       "    .dataframe thead th {\n",
       "        text-align: right;\n",
       "    }\n",
       "</style>\n",
       "<table border=\"1\" class=\"dataframe\">\n",
       "  <thead>\n",
       "    <tr style=\"text-align: right;\">\n",
       "      <th></th>\n",
       "      <th>No</th>\n",
       "      <th>X1 transaction date</th>\n",
       "      <th>X2 house age</th>\n",
       "      <th>X3 distance to the nearest MRT station</th>\n",
       "      <th>X4 number of convenience stores</th>\n",
       "      <th>X5 latitude</th>\n",
       "      <th>X6 longitude</th>\n",
       "      <th>Y house price of unit area</th>\n",
       "      <th>direction</th>\n",
       "    </tr>\n",
       "  </thead>\n",
       "  <tbody>\n",
       "    <tr>\n",
       "      <th>24</th>\n",
       "      <td>25</td>\n",
       "      <td>2013.000</td>\n",
       "      <td>39.6</td>\n",
       "      <td>480.6977</td>\n",
       "      <td>4</td>\n",
       "      <td>24.97353</td>\n",
       "      <td>121.53885</td>\n",
       "      <td>38.8</td>\n",
       "      <td>0.205478</td>\n",
       "    </tr>\n",
       "    <tr>\n",
       "      <th>391</th>\n",
       "      <td>392</td>\n",
       "      <td>2013.583</td>\n",
       "      <td>6.2</td>\n",
       "      <td>1939.7490</td>\n",
       "      <td>1</td>\n",
       "      <td>24.95155</td>\n",
       "      <td>121.55387</td>\n",
       "      <td>31.3</td>\n",
       "      <td>0.205272</td>\n",
       "    </tr>\n",
       "    <tr>\n",
       "      <th>278</th>\n",
       "      <td>279</td>\n",
       "      <td>2012.750</td>\n",
       "      <td>0.0</td>\n",
       "      <td>208.3905</td>\n",
       "      <td>6</td>\n",
       "      <td>24.95618</td>\n",
       "      <td>121.53844</td>\n",
       "      <td>44.0</td>\n",
       "      <td>0.205336</td>\n",
       "    </tr>\n",
       "    <tr>\n",
       "      <th>67</th>\n",
       "      <td>68</td>\n",
       "      <td>2013.500</td>\n",
       "      <td>8.5</td>\n",
       "      <td>104.8101</td>\n",
       "      <td>5</td>\n",
       "      <td>24.96674</td>\n",
       "      <td>121.54067</td>\n",
       "      <td>56.8</td>\n",
       "      <td>0.205419</td>\n",
       "    </tr>\n",
       "    <tr>\n",
       "      <th>411</th>\n",
       "      <td>412</td>\n",
       "      <td>2013.250</td>\n",
       "      <td>18.8</td>\n",
       "      <td>390.9696</td>\n",
       "      <td>7</td>\n",
       "      <td>24.97923</td>\n",
       "      <td>121.53986</td>\n",
       "      <td>40.6</td>\n",
       "      <td>0.205523</td>\n",
       "    </tr>\n",
       "  </tbody>\n",
       "</table>\n",
       "</div>"
      ],
      "text/plain": [
       "      No  X1 transaction date  X2 house age  \\\n",
       "24    25             2013.000          39.6   \n",
       "391  392             2013.583           6.2   \n",
       "278  279             2012.750           0.0   \n",
       "67    68             2013.500           8.5   \n",
       "411  412             2013.250          18.8   \n",
       "\n",
       "     X3 distance to the nearest MRT station  X4 number of convenience stores  \\\n",
       "24                                 480.6977                                4   \n",
       "391                               1939.7490                                1   \n",
       "278                                208.3905                                6   \n",
       "67                                 104.8101                                5   \n",
       "411                                390.9696                                7   \n",
       "\n",
       "     X5 latitude  X6 longitude  Y house price of unit area  direction  \n",
       "24      24.97353     121.53885                        38.8   0.205478  \n",
       "391     24.95155     121.55387                        31.3   0.205272  \n",
       "278     24.95618     121.53844                        44.0   0.205336  \n",
       "67      24.96674     121.54067                        56.8   0.205419  \n",
       "411     24.97923     121.53986                        40.6   0.205523  "
      ]
     },
     "execution_count": 530,
     "metadata": {},
     "output_type": "execute_result"
    }
   ],
   "source": [
    "housing.head()"
   ]
  },
  {
   "cell_type": "code",
   "execution_count": 531,
   "id": "a2bf7b71",
   "metadata": {},
   "outputs": [
    {
     "data": {
      "text/plain": [
       "Y house price of unit area                1.000000\n",
       "X4 number of convenience stores           0.545551\n",
       "X5 latitude                               0.521617\n",
       "X6 longitude                              0.465676\n",
       "direction                                 0.431781\n",
       "X1 transaction date                       0.093637\n",
       "No                                        0.012800\n",
       "X2 house age                             -0.164624\n",
       "X3 distance to the nearest MRT station   -0.653192\n",
       "Name: Y house price of unit area, dtype: float64"
      ]
     },
     "execution_count": 531,
     "metadata": {},
     "output_type": "execute_result"
    }
   ],
   "source": [
    "corr_matrix = housing.corr()\n",
    "corr_matrix['Y house price of unit area'].sort_values(ascending=False)"
   ]
  },
  {
   "cell_type": "code",
   "execution_count": 532,
   "id": "efa69310",
   "metadata": {},
   "outputs": [
    {
     "data": {
      "text/plain": [
       "<Axes: xlabel='direction', ylabel='Y house price of unit area'>"
      ]
     },
     "execution_count": 532,
     "metadata": {},
     "output_type": "execute_result"
    },
    {
     "data": {
      "image/png": "[encoded data removed]",
      "text/plain": [
       "<Figure size 640x480 with 1 Axes>"
      ]
     },
     "metadata": {},
     "output_type": "display_data"
    }
   ],
   "source": [
    "housing.plot(kind='scatter', x='direction', y='Y house price of unit area', alpha=0.8 )"
   ]
  },
  {
   "cell_type": "code",
   "execution_count": 533,
   "id": "b5bd896b",
   "metadata": {},
   "outputs": [],
   "source": [
    "housing = strat_train_set.drop(\"Y house price of unit area\", axis=1)\n",
    "housing_labels = strat_train_set[\"Y house price of unit area\"].copy()"
   ]
  },
  {
   "cell_type": "markdown",
   "id": "b306b528",
   "metadata": {},
   "source": [
    "# Missing Attibutes"
   ]
  },
  {
   "cell_type": "code",
   "execution_count": 534,
   "id": "842aa035",
   "metadata": {},
   "outputs": [],
   "source": [
    "# To take care of missing  attributes, we have three opt\n",
    "#  1. Get rid of the missing data points\n",
    "#  2. Get rid of the whole attribute\n",
    "#  3. Set the value to some value(0, mean or median)"
   ]
  },
  {
   "cell_type": "code",
   "execution_count": 535,
   "id": "90e23406",
   "metadata": {},
   "outputs": [
    {
     "data": {
      "text/plain": [
       "(331, 7)"
      ]
     },
     "execution_count": 535,
     "metadata": {},
     "output_type": "execute_result"
    }
   ],
   "source": [
    "a = housing.dropna(subset=['X5 latitude']) #option 1\n",
    "a.shape\n",
    "# Note that the original housing dataframe will remain unchanged"
   ]
  },
  {
   "cell_type": "code",
   "execution_count": 536,
   "id": "6516d46e",
   "metadata": {},
   "outputs": [
    {
     "data": {
      "text/plain": [
       "(331, 6)"
      ]
     },
     "execution_count": 536,
     "metadata": {},
     "output_type": "execute_result"
    }
   ],
   "source": [
    "housing.drop('X5 latitude', axis=1).shape #option 2\n",
    "#note that there is no X5 latitude column\n",
    "# Note that the original housing dataframe will remain unchanged"
   ]
  },
  {
   "cell_type": "code",
   "execution_count": 537,
   "id": "e0ceda84",
   "metadata": {},
   "outputs": [],
   "source": [
    "median=housing['X5 latitude'].median() # option 3\n",
    "# this value is imp during testing time"
   ]
  },
  {
   "cell_type": "code",
   "execution_count": 538,
   "id": "db8fd4c4",
   "metadata": {},
   "outputs": [
    {
     "data": {
      "text/plain": [
       "24     24.97353\n",
       "391    24.95155\n",
       "278    24.95618\n",
       "67     24.96674\n",
       "411    24.97923\n",
       "         ...   \n",
       "337    24.96871\n",
       "52     24.97419\n",
       "71     24.97563\n",
       "325    24.97015\n",
       "225    24.96571\n",
       "Name: X5 latitude, Length: 331, dtype: float64"
      ]
     },
     "execution_count": 538,
     "metadata": {},
     "output_type": "execute_result"
    }
   ],
   "source": [
    "housing['X5 latitude'].fillna(median)\n",
    "# Note that the original housing dataframe will remain unchanged"
   ]
  },
  {
   "cell_type": "code",
   "execution_count": 539,
   "id": "8b85d5d8",
   "metadata": {},
   "outputs": [
    {
     "data": {
      "text/plain": [
       "(331, 7)"
      ]
     },
     "execution_count": 539,
     "metadata": {},
     "output_type": "execute_result"
    }
   ],
   "source": [
    "housing.shape"
   ]
  },
  {
   "cell_type": "code",
   "execution_count": 540,
   "id": "ce2e1af0",
   "metadata": {},
   "outputs": [
    {
     "data": {
      "text/html": [
       "<div>\n",
       "<style scoped>\n",
       "    .dataframe tbody tr th:only-of-type {\n",
       "        vertical-align: middle;\n",
       "    }\n",
       "\n",
       "    .dataframe tbody tr th {\n",
       "        vertical-align: top;\n",
       "    }\n",
       "\n",
       "    .dataframe thead th {\n",
       "        text-align: right;\n",
       "    }\n",
       "</style>\n",
       "<table border=\"1\" class=\"dataframe\">\n",
       "  <thead>\n",
       "    <tr style=\"text-align: right;\">\n",
       "      <th></th>\n",
       "      <th>No</th>\n",
       "      <th>X1 transaction date</th>\n",
       "      <th>X2 house age</th>\n",
       "      <th>X3 distance to the nearest MRT station</th>\n",
       "      <th>X4 number of convenience stores</th>\n",
       "      <th>X5 latitude</th>\n",
       "      <th>X6 longitude</th>\n",
       "    </tr>\n",
       "  </thead>\n",
       "  <tbody>\n",
       "    <tr>\n",
       "      <th>count</th>\n",
       "      <td>331.000000</td>\n",
       "      <td>331.000000</td>\n",
       "      <td>331.000000</td>\n",
       "      <td>331.000000</td>\n",
       "      <td>331.000000</td>\n",
       "      <td>331.000000</td>\n",
       "      <td>331.000000</td>\n",
       "    </tr>\n",
       "    <tr>\n",
       "      <th>mean</th>\n",
       "      <td>207.773414</td>\n",
       "      <td>2013.148305</td>\n",
       "      <td>17.810876</td>\n",
       "      <td>1098.354193</td>\n",
       "      <td>3.921450</td>\n",
       "      <td>24.968961</td>\n",
       "      <td>121.533457</td>\n",
       "    </tr>\n",
       "    <tr>\n",
       "      <th>std</th>\n",
       "      <td>121.311495</td>\n",
       "      <td>0.282119</td>\n",
       "      <td>11.426132</td>\n",
       "      <td>1228.384528</td>\n",
       "      <td>2.960322</td>\n",
       "      <td>0.012553</td>\n",
       "      <td>0.015181</td>\n",
       "    </tr>\n",
       "    <tr>\n",
       "      <th>min</th>\n",
       "      <td>1.000000</td>\n",
       "      <td>2012.667000</td>\n",
       "      <td>0.000000</td>\n",
       "      <td>23.382840</td>\n",
       "      <td>0.000000</td>\n",
       "      <td>24.932930</td>\n",
       "      <td>121.473530</td>\n",
       "    </tr>\n",
       "    <tr>\n",
       "      <th>25%</th>\n",
       "      <td>100.000000</td>\n",
       "      <td>2012.917000</td>\n",
       "      <td>8.950000</td>\n",
       "      <td>292.997800</td>\n",
       "      <td>1.000000</td>\n",
       "      <td>24.962990</td>\n",
       "      <td>121.527600</td>\n",
       "    </tr>\n",
       "    <tr>\n",
       "      <th>50%</th>\n",
       "      <td>205.000000</td>\n",
       "      <td>2013.167000</td>\n",
       "      <td>16.100000</td>\n",
       "      <td>535.527000</td>\n",
       "      <td>4.000000</td>\n",
       "      <td>24.971100</td>\n",
       "      <td>121.537880</td>\n",
       "    </tr>\n",
       "    <tr>\n",
       "      <th>75%</th>\n",
       "      <td>317.500000</td>\n",
       "      <td>2013.417000</td>\n",
       "      <td>29.200000</td>\n",
       "      <td>1455.798000</td>\n",
       "      <td>6.000000</td>\n",
       "      <td>24.977705</td>\n",
       "      <td>121.543480</td>\n",
       "    </tr>\n",
       "    <tr>\n",
       "      <th>max</th>\n",
       "      <td>414.000000</td>\n",
       "      <td>2013.583000</td>\n",
       "      <td>41.400000</td>\n",
       "      <td>6488.021000</td>\n",
       "      <td>10.000000</td>\n",
       "      <td>25.014590</td>\n",
       "      <td>121.566270</td>\n",
       "    </tr>\n",
       "  </tbody>\n",
       "</table>\n",
       "</div>"
      ],
      "text/plain": [
       "               No  X1 transaction date  X2 house age  \\\n",
       "count  331.000000           331.000000    331.000000   \n",
       "mean   207.773414          2013.148305     17.810876   \n",
       "std    121.311495             0.282119     11.426132   \n",
       "min      1.000000          2012.667000      0.000000   \n",
       "25%    100.000000          2012.917000      8.950000   \n",
       "50%    205.000000          2013.167000     16.100000   \n",
       "75%    317.500000          2013.417000     29.200000   \n",
       "max    414.000000          2013.583000     41.400000   \n",
       "\n",
       "       X3 distance to the nearest MRT station  \\\n",
       "count                              331.000000   \n",
       "mean                              1098.354193   \n",
       "std                               1228.384528   \n",
       "min                                 23.382840   \n",
       "25%                                292.997800   \n",
       "50%                                535.527000   \n",
       "75%                               1455.798000   \n",
       "max                               6488.021000   \n",
       "\n",
       "       X4 number of convenience stores  X5 latitude  X6 longitude  \n",
       "count                       331.000000   331.000000    331.000000  \n",
       "mean                          3.921450    24.968961    121.533457  \n",
       "std                           2.960322     0.012553      0.015181  \n",
       "min                           0.000000    24.932930    121.473530  \n",
       "25%                           1.000000    24.962990    121.527600  \n",
       "50%                           4.000000    24.971100    121.537880  \n",
       "75%                           6.000000    24.977705    121.543480  \n",
       "max                          10.000000    25.014590    121.566270  "
      ]
     },
     "execution_count": 540,
     "metadata": {},
     "output_type": "execute_result"
    }
   ],
   "source": [
    "housing.describe() #before we started filling missing attributes"
   ]
  },
  {
   "cell_type": "code",
   "execution_count": 541,
   "id": "1d936804",
   "metadata": {},
   "outputs": [
    {
     "data": {
      "text/html": [
       "<style>#sk-container-id-22 {color: black;background-color: white;}#sk-container-id-22 pre{padding: 0;}#sk-container-id-22 div.sk-toggleable {background-color: white;}#sk-container-id-22 label.sk-toggleable__label {cursor: pointer;display: block;width: 100%;margin-bottom: 0;padding: 0.3em;box-sizing: border-box;text-align: center;}#sk-container-id-22 label.sk-toggleable__label-arrow:before {content: \"▸\";float: left;margin-right: 0.25em;color: #696969;}#sk-container-id-22 label.sk-toggleable__label-arrow:hover:before {color: black;}#sk-container-id-22 div.sk-estimator:hover label.sk-toggleable__label-arrow:before {color: black;}#sk-container-id-22 div.sk-toggleable__content {max-height: 0;max-width: 0;overflow: hidden;text-align: left;background-color: #f0f8ff;}#sk-container-id-22 div.sk-toggleable__content pre {margin: 0.2em;color: black;border-radius: 0.25em;background-color: #f0f8ff;}#sk-container-id-22 input.sk-toggleable__control:checked~div.sk-toggleable__content {max-height: 200px;max-width: 100%;overflow: auto;}#sk-container-id-22 input.sk-toggleable__control:checked~label.sk-toggleable__label-arrow:before {content: \"▾\";}#sk-container-id-22 div.sk-estimator input.sk-toggleable__control:checked~label.sk-toggleable__label {background-color: #d4ebff;}#sk-container-id-22 div.sk-label input.sk-toggleable__control:checked~label.sk-toggleable__label {background-color: #d4ebff;}#sk-container-id-22 input.sk-hidden--visually {border: 0;clip: rect(1px 1px 1px 1px);clip: rect(1px, 1px, 1px, 1px);height: 1px;margin: -1px;overflow: hidden;padding: 0;position: absolute;width: 1px;}#sk-container-id-22 div.sk-estimator {font-family: monospace;background-color: #f0f8ff;border: 1px dotted black;border-radius: 0.25em;box-sizing: border-box;margin-bottom: 0.5em;}#sk-container-id-22 div.sk-estimator:hover {background-color: #d4ebff;}#sk-container-id-22 div.sk-parallel-item::after {content: \"\";width: 100%;border-bottom: 1px solid gray;flex-grow: 1;}#sk-container-id-22 div.sk-label:hover label.sk-toggleable__label {background-color: #d4ebff;}#sk-container-id-22 div.sk-serial::before {content: \"\";position: absolute;border-left: 1px solid gray;box-sizing: border-box;top: 0;bottom: 0;left: 50%;z-index: 0;}#sk-container-id-22 div.sk-serial {display: flex;flex-direction: column;align-items: center;background-color: white;padding-right: 0.2em;padding-left: 0.2em;position: relative;}#sk-container-id-22 div.sk-item {position: relative;z-index: 1;}#sk-container-id-22 div.sk-parallel {display: flex;align-items: stretch;justify-content: center;background-color: white;position: relative;}#sk-container-id-22 div.sk-item::before, #sk-container-id-22 div.sk-parallel-item::before {content: \"\";position: absolute;border-left: 1px solid gray;box-sizing: border-box;top: 0;bottom: 0;left: 50%;z-index: -1;}#sk-container-id-22 div.sk-parallel-item {display: flex;flex-direction: column;z-index: 1;position: relative;background-color: white;}#sk-container-id-22 div.sk-parallel-item:first-child::after {align-self: flex-end;width: 50%;}#sk-container-id-22 div.sk-parallel-item:last-child::after {align-self: flex-start;width: 50%;}#sk-container-id-22 div.sk-parallel-item:only-child::after {width: 0;}#sk-container-id-22 div.sk-dashed-wrapped {border: 1px dashed gray;margin: 0 0.4em 0.5em 0.4em;box-sizing: border-box;padding-bottom: 0.4em;background-color: white;}#sk-container-id-22 div.sk-label label {font-family: monospace;font-weight: bold;display: inline-block;line-height: 1.2em;}#sk-container-id-22 div.sk-label-container {text-align: center;}#sk-container-id-22 div.sk-container {/* jupyter's `normalize.less` sets `[hidden] { display: none; }` but bootstrap.min.css set `[hidden] { display: none !important; }` so we also need the `!important` here to be able to override the default hidden behavior on the sphinx rendered scikit-learn.org. See: https://github.com/scikit-learn/scikit-learn/issues/21755 */display: inline-block !important;position: relative;}#sk-container-id-22 div.sk-text-repr-fallback {display: none;}</style><div id=\"sk-container-id-22\" class=\"sk-top-container\"><div class=\"sk-text-repr-fallback\"><pre>SimpleImputer(strategy=&#x27;median&#x27;)</pre><b>In a Jupyter environment, please rerun this cell to show the HTML representation or trust the notebook. <br />On GitHub, the HTML representation is unable to render, please try loading this page with nbviewer.org.</b></div><div class=\"sk-container\" hidden><div class=\"sk-item\"><div class=\"sk-estimator sk-toggleable\"><input class=\"sk-toggleable__control sk-hidden--visually\" id=\"sk-estimator-id-22\" type=\"checkbox\" checked><label for=\"sk-estimator-id-22\" class=\"sk-toggleable__label sk-toggleable__label-arrow\">SimpleImputer</label><div class=\"sk-toggleable__content\"><pre>SimpleImputer(strategy=&#x27;median&#x27;)</pre></div></div></div></div></div>"
      ],
      "text/plain": [
       "SimpleImputer(strategy='median')"
      ]
     },
     "execution_count": 541,
     "metadata": {},
     "output_type": "execute_result"
    }
   ],
   "source": [
    "# same thing is available in sklearn using class\n",
    "\n",
    "from sklearn.impute import SimpleImputer\n",
    "imputer = SimpleImputer(strategy =\"median\")\n",
    "imputer.fit(housing)"
   ]
  },
  {
   "cell_type": "code",
   "execution_count": 542,
   "id": "82b714f0",
   "metadata": {},
   "outputs": [
    {
     "data": {
      "text/plain": [
       "array([ 205.     , 2013.167  ,   16.1    ,  535.527  ,    4.     ,\n",
       "         24.9711 ,  121.53788])"
      ]
     },
     "execution_count": 542,
     "metadata": {},
     "output_type": "execute_result"
    }
   ],
   "source": [
    "imputer.statistics_"
   ]
  },
  {
   "cell_type": "code",
   "execution_count": 543,
   "id": "d76c5750",
   "metadata": {},
   "outputs": [
    {
     "data": {
      "text/plain": [
       "(7,)"
      ]
     },
     "execution_count": 543,
     "metadata": {},
     "output_type": "execute_result"
    }
   ],
   "source": [
    "imputer.statistics_.shape"
   ]
  },
  {
   "cell_type": "code",
   "execution_count": 544,
   "id": "917553b2",
   "metadata": {},
   "outputs": [],
   "source": [
    "x = imputer.transform(housing)"
   ]
  },
  {
   "cell_type": "code",
   "execution_count": 545,
   "id": "6c3704e0",
   "metadata": {},
   "outputs": [],
   "source": [
    "housing_tr = pd.DataFrame(x, columns=housing.columns)"
   ]
  },
  {
   "cell_type": "code",
   "execution_count": 546,
   "id": "4e036a88",
   "metadata": {
    "scrolled": true
   },
   "outputs": [
    {
     "data": {
      "text/html": [
       "<div>\n",
       "<style scoped>\n",
       "    .dataframe tbody tr th:only-of-type {\n",
       "        vertical-align: middle;\n",
       "    }\n",
       "\n",
       "    .dataframe tbody tr th {\n",
       "        vertical-align: top;\n",
       "    }\n",
       "\n",
       "    .dataframe thead th {\n",
       "        text-align: right;\n",
       "    }\n",
       "</style>\n",
       "<table border=\"1\" class=\"dataframe\">\n",
       "  <thead>\n",
       "    <tr style=\"text-align: right;\">\n",
       "      <th></th>\n",
       "      <th>No</th>\n",
       "      <th>X1 transaction date</th>\n",
       "      <th>X2 house age</th>\n",
       "      <th>X3 distance to the nearest MRT station</th>\n",
       "      <th>X4 number of convenience stores</th>\n",
       "      <th>X5 latitude</th>\n",
       "      <th>X6 longitude</th>\n",
       "    </tr>\n",
       "  </thead>\n",
       "  <tbody>\n",
       "    <tr>\n",
       "      <th>count</th>\n",
       "      <td>331.000000</td>\n",
       "      <td>331.000000</td>\n",
       "      <td>331.000000</td>\n",
       "      <td>331.000000</td>\n",
       "      <td>331.000000</td>\n",
       "      <td>331.000000</td>\n",
       "      <td>331.000000</td>\n",
       "    </tr>\n",
       "    <tr>\n",
       "      <th>mean</th>\n",
       "      <td>207.773414</td>\n",
       "      <td>2013.148305</td>\n",
       "      <td>17.810876</td>\n",
       "      <td>1098.354193</td>\n",
       "      <td>3.921450</td>\n",
       "      <td>24.968961</td>\n",
       "      <td>121.533457</td>\n",
       "    </tr>\n",
       "    <tr>\n",
       "      <th>std</th>\n",
       "      <td>121.311495</td>\n",
       "      <td>0.282119</td>\n",
       "      <td>11.426132</td>\n",
       "      <td>1228.384528</td>\n",
       "      <td>2.960322</td>\n",
       "      <td>0.012553</td>\n",
       "      <td>0.015181</td>\n",
       "    </tr>\n",
       "    <tr>\n",
       "      <th>min</th>\n",
       "      <td>1.000000</td>\n",
       "      <td>2012.667000</td>\n",
       "      <td>0.000000</td>\n",
       "      <td>23.382840</td>\n",
       "      <td>0.000000</td>\n",
       "      <td>24.932930</td>\n",
       "      <td>121.473530</td>\n",
       "    </tr>\n",
       "    <tr>\n",
       "      <th>25%</th>\n",
       "      <td>100.000000</td>\n",
       "      <td>2012.917000</td>\n",
       "      <td>8.950000</td>\n",
       "      <td>292.997800</td>\n",
       "      <td>1.000000</td>\n",
       "      <td>24.962990</td>\n",
       "      <td>121.527600</td>\n",
       "    </tr>\n",
       "    <tr>\n",
       "      <th>50%</th>\n",
       "      <td>205.000000</td>\n",
       "      <td>2013.167000</td>\n",
       "      <td>16.100000</td>\n",
       "      <td>535.527000</td>\n",
       "      <td>4.000000</td>\n",
       "      <td>24.971100</td>\n",
       "      <td>121.537880</td>\n",
       "    </tr>\n",
       "    <tr>\n",
       "      <th>75%</th>\n",
       "      <td>317.500000</td>\n",
       "      <td>2013.417000</td>\n",
       "      <td>29.200000</td>\n",
       "      <td>1455.798000</td>\n",
       "      <td>6.000000</td>\n",
       "      <td>24.977705</td>\n",
       "      <td>121.543480</td>\n",
       "    </tr>\n",
       "    <tr>\n",
       "      <th>max</th>\n",
       "      <td>414.000000</td>\n",
       "      <td>2013.583000</td>\n",
       "      <td>41.400000</td>\n",
       "      <td>6488.021000</td>\n",
       "      <td>10.000000</td>\n",
       "      <td>25.014590</td>\n",
       "      <td>121.566270</td>\n",
       "    </tr>\n",
       "  </tbody>\n",
       "</table>\n",
       "</div>"
      ],
      "text/plain": [
       "               No  X1 transaction date  X2 house age  \\\n",
       "count  331.000000           331.000000    331.000000   \n",
       "mean   207.773414          2013.148305     17.810876   \n",
       "std    121.311495             0.282119     11.426132   \n",
       "min      1.000000          2012.667000      0.000000   \n",
       "25%    100.000000          2012.917000      8.950000   \n",
       "50%    205.000000          2013.167000     16.100000   \n",
       "75%    317.500000          2013.417000     29.200000   \n",
       "max    414.000000          2013.583000     41.400000   \n",
       "\n",
       "       X3 distance to the nearest MRT station  \\\n",
       "count                              331.000000   \n",
       "mean                              1098.354193   \n",
       "std                               1228.384528   \n",
       "min                                 23.382840   \n",
       "25%                                292.997800   \n",
       "50%                                535.527000   \n",
       "75%                               1455.798000   \n",
       "max                               6488.021000   \n",
       "\n",
       "       X4 number of convenience stores  X5 latitude  X6 longitude  \n",
       "count                       331.000000   331.000000    331.000000  \n",
       "mean                          3.921450    24.968961    121.533457  \n",
       "std                           2.960322     0.012553      0.015181  \n",
       "min                           0.000000    24.932930    121.473530  \n",
       "25%                           1.000000    24.962990    121.527600  \n",
       "50%                           4.000000    24.971100    121.537880  \n",
       "75%                           6.000000    24.977705    121.543480  \n",
       "max                          10.000000    25.014590    121.566270  "
      ]
     },
     "execution_count": 546,
     "metadata": {},
     "output_type": "execute_result"
    }
   ],
   "source": [
    "housing_tr.describe()"
   ]
  },
  {
   "cell_type": "markdown",
   "id": "180c56ed",
   "metadata": {},
   "source": [
    "# Scikitlearn Design"
   ]
  },
  {
   "cell_type": "code",
   "execution_count": 547,
   "id": "6f54a8bb",
   "metadata": {},
   "outputs": [],
   "source": [
    "# Primarily 3 types of obj\n",
    "#   1. Estimators0- it estimates some parameter based on a datasets eg. imputer it has a fit methodand transform method. fit method - fits the datasets and calculate internal parameters\n",
    "\n",
    "#    2. Transformers -transform method takes input and return output based on the learning from fit(). It also has a convenience function called fit transform () which fits and then transforms.\n",
    "\n",
    "#   3. Predictors - LinearRegression model is an eg of predictor. fit()and predict() are 2 common function. It also gives score() function which will evaluate the predictions "
   ]
  },
  {
   "cell_type": "markdown",
   "id": "2c47fec7",
   "metadata": {},
   "source": [
    "# Feature Scaling"
   ]
  },
  {
   "cell_type": "code",
   "execution_count": 548,
   "id": "02882ed8",
   "metadata": {},
   "outputs": [],
   "source": [
    "#Primarily, teo types of feature scaling methods:\n",
    "# 1. min-max scaling(Normalization)\n",
    "#    (value - min)/(max - min)\n",
    "#   SKlearn provides a class called MinMaxScaler for this \n",
    "# \n",
    "# 2.Standardization \n",
    "#    (value-mean)/std\n",
    "#   SKlearn provides a class called Standard Scaler for this"
   ]
  },
  {
   "cell_type": "markdown",
   "id": "2aef41ab",
   "metadata": {},
   "source": [
    "# Creating Pipeline"
   ]
  },
  {
   "cell_type": "code",
   "execution_count": 549,
   "id": "75b7673b",
   "metadata": {},
   "outputs": [],
   "source": [
    "from sklearn.pipeline import Pipeline\n",
    "from sklearn.preprocessing import StandardScaler"
   ]
  },
  {
   "cell_type": "code",
   "execution_count": 550,
   "id": "ac907448",
   "metadata": {},
   "outputs": [],
   "source": [
    "my_pipeline = Pipeline([\n",
    "    ('imputer̥', SimpleImputer(strategy=\"median\")), \n",
    "    #...........add as many as you wanna in pipeline\n",
    "    ('std_scaler', StandardScaler())\n",
    "])"
   ]
  },
  {
   "cell_type": "code",
   "execution_count": 551,
   "id": "ce028571",
   "metadata": {},
   "outputs": [],
   "source": [
    "housing_num_tr = my_pipeline.fit_transform(housing)"
   ]
  },
  {
   "cell_type": "code",
   "execution_count": 552,
   "id": "52225d27",
   "metadata": {},
   "outputs": [
    {
     "data": {
      "text/plain": [
       "array([[-1.50892654, -0.52647856,  1.90984256, ...,  0.02657439,\n",
       "         0.36450366,  0.3557868 ],\n",
       "       [ 1.52092352,  1.54315307, -1.01770707, ..., -0.98836307,\n",
       "        -1.38907548,  1.34665405],\n",
       "       [ 0.58802691, -1.41397069, -1.56114442, ...,  0.70319937,\n",
       "        -1.01969097,  0.32873916],\n",
       "       ...,\n",
       "       [-1.12090759, -0.23183118,  1.55047269, ..., -0.31173809,\n",
       "         0.53204307,  0.24363804],\n",
       "       [ 0.97604585, -0.23183118,  1.646889  , ...,  1.37982434,\n",
       "         0.094845  ,  0.75754323],\n",
       "       [ 0.15047363,  0.36101356, -1.46472812, ...,  0.70319937,\n",
       "        -0.25938118,  0.49036531]])"
      ]
     },
     "execution_count": 552,
     "metadata": {},
     "output_type": "execute_result"
    }
   ],
   "source": [
    "housing_num_tr # gives numpy array"
   ]
  },
  {
   "cell_type": "code",
   "execution_count": 553,
   "id": "2188f028",
   "metadata": {},
   "outputs": [
    {
     "data": {
      "text/plain": [
       "(331, 7)"
      ]
     },
     "execution_count": 553,
     "metadata": {},
     "output_type": "execute_result"
    }
   ],
   "source": [
    "housing_num_tr.shape"
   ]
  },
  {
   "cell_type": "markdown",
   "id": "199bece8",
   "metadata": {},
   "source": [
    "# Selecting a desired model for Real Estate"
   ]
  },
  {
   "cell_type": "code",
   "execution_count": 554,
   "id": "f5167cd9",
   "metadata": {},
   "outputs": [
    {
     "data": {
      "text/html": [
       "<style>#sk-container-id-23 {color: black;background-color: white;}#sk-container-id-23 pre{padding: 0;}#sk-container-id-23 div.sk-toggleable {background-color: white;}#sk-container-id-23 label.sk-toggleable__label {cursor: pointer;display: block;width: 100%;margin-bottom: 0;padding: 0.3em;box-sizing: border-box;text-align: center;}#sk-container-id-23 label.sk-toggleable__label-arrow:before {content: \"▸\";float: left;margin-right: 0.25em;color: #696969;}#sk-container-id-23 label.sk-toggleable__label-arrow:hover:before {color: black;}#sk-container-id-23 div.sk-estimator:hover label.sk-toggleable__label-arrow:before {color: black;}#sk-container-id-23 div.sk-toggleable__content {max-height: 0;max-width: 0;overflow: hidden;text-align: left;background-color: #f0f8ff;}#sk-container-id-23 div.sk-toggleable__content pre {margin: 0.2em;color: black;border-radius: 0.25em;background-color: #f0f8ff;}#sk-container-id-23 input.sk-toggleable__control:checked~div.sk-toggleable__content {max-height: 200px;max-width: 100%;overflow: auto;}#sk-container-id-23 input.sk-toggleable__control:checked~label.sk-toggleable__label-arrow:before {content: \"▾\";}#sk-container-id-23 div.sk-estimator input.sk-toggleable__control:checked~label.sk-toggleable__label {background-color: #d4ebff;}#sk-container-id-23 div.sk-label input.sk-toggleable__control:checked~label.sk-toggleable__label {background-color: #d4ebff;}#sk-container-id-23 input.sk-hidden--visually {border: 0;clip: rect(1px 1px 1px 1px);clip: rect(1px, 1px, 1px, 1px);height: 1px;margin: -1px;overflow: hidden;padding: 0;position: absolute;width: 1px;}#sk-container-id-23 div.sk-estimator {font-family: monospace;background-color: #f0f8ff;border: 1px dotted black;border-radius: 0.25em;box-sizing: border-box;margin-bottom: 0.5em;}#sk-container-id-23 div.sk-estimator:hover {background-color: #d4ebff;}#sk-container-id-23 div.sk-parallel-item::after {content: \"\";width: 100%;border-bottom: 1px solid gray;flex-grow: 1;}#sk-container-id-23 div.sk-label:hover label.sk-toggleable__label {background-color: #d4ebff;}#sk-container-id-23 div.sk-serial::before {content: \"\";position: absolute;border-left: 1px solid gray;box-sizing: border-box;top: 0;bottom: 0;left: 50%;z-index: 0;}#sk-container-id-23 div.sk-serial {display: flex;flex-direction: column;align-items: center;background-color: white;padding-right: 0.2em;padding-left: 0.2em;position: relative;}#sk-container-id-23 div.sk-item {position: relative;z-index: 1;}#sk-container-id-23 div.sk-parallel {display: flex;align-items: stretch;justify-content: center;background-color: white;position: relative;}#sk-container-id-23 div.sk-item::before, #sk-container-id-23 div.sk-parallel-item::before {content: \"\";position: absolute;border-left: 1px solid gray;box-sizing: border-box;top: 0;bottom: 0;left: 50%;z-index: -1;}#sk-container-id-23 div.sk-parallel-item {display: flex;flex-direction: column;z-index: 1;position: relative;background-color: white;}#sk-container-id-23 div.sk-parallel-item:first-child::after {align-self: flex-end;width: 50%;}#sk-container-id-23 div.sk-parallel-item:last-child::after {align-self: flex-start;width: 50%;}#sk-container-id-23 div.sk-parallel-item:only-child::after {width: 0;}#sk-container-id-23 div.sk-dashed-wrapped {border: 1px dashed gray;margin: 0 0.4em 0.5em 0.4em;box-sizing: border-box;padding-bottom: 0.4em;background-color: white;}#sk-container-id-23 div.sk-label label {font-family: monospace;font-weight: bold;display: inline-block;line-height: 1.2em;}#sk-container-id-23 div.sk-label-container {text-align: center;}#sk-container-id-23 div.sk-container {/* jupyter's `normalize.less` sets `[hidden] { display: none; }` but bootstrap.min.css set `[hidden] { display: none !important; }` so we also need the `!important` here to be able to override the default hidden behavior on the sphinx rendered scikit-learn.org. See: https://github.com/scikit-learn/scikit-learn/issues/21755 */display: inline-block !important;position: relative;}#sk-container-id-23 div.sk-text-repr-fallback {display: none;}</style><div id=\"sk-container-id-23\" class=\"sk-top-container\"><div class=\"sk-text-repr-fallback\"><pre>LinearRegression()</pre><b>In a Jupyter environment, please rerun this cell to show the HTML representation or trust the notebook. <br />On GitHub, the HTML representation is unable to render, please try loading this page with nbviewer.org.</b></div><div class=\"sk-container\" hidden><div class=\"sk-item\"><div class=\"sk-estimator sk-toggleable\"><input class=\"sk-toggleable__control sk-hidden--visually\" id=\"sk-estimator-id-23\" type=\"checkbox\" checked><label for=\"sk-estimator-id-23\" class=\"sk-toggleable__label sk-toggleable__label-arrow\">LinearRegression</label><div class=\"sk-toggleable__content\"><pre>LinearRegression()</pre></div></div></div></div></div>"
      ],
      "text/plain": [
       "LinearRegression()"
      ]
     },
     "execution_count": 554,
     "metadata": {},
     "output_type": "execute_result"
    }
   ],
   "source": [
    "# from sklearn.linear_model import LinearRegression\n",
    "# from sklearn.tree import DecisionTreeRegressor\n",
    "from sklearn.ensemble import RandomForestRegressor\n",
    " \n",
    "# model = LinearRegression()\n",
    "# model1 = DecisionTreeRegressor()\n",
    "model2 = RandomForestRegressor()\n",
    "model.fit(housing_num_tr, housing_labels)\n"
   ]
  },
  {
   "cell_type": "code",
   "execution_count": 555,
   "id": "78d3f96f",
   "metadata": {},
   "outputs": [],
   "source": [
    "some_data =housing.iloc[:5]"
   ]
  },
  {
   "cell_type": "code",
   "execution_count": 556,
   "id": "ef72691f",
   "metadata": {},
   "outputs": [],
   "source": [
    "some_labels = housing_labels.iloc[:5]"
   ]
  },
  {
   "cell_type": "code",
   "execution_count": 557,
   "id": "e8b288e1",
   "metadata": {},
   "outputs": [],
   "source": [
    "prepared_data = my_pipeline.transform(some_data)"
   ]
  },
  {
   "cell_type": "code",
   "execution_count": 558,
   "id": "eef3d195",
   "metadata": {},
   "outputs": [
    {
     "data": {
      "text/plain": [
       "array([35.8958039 , 30.56234421, 43.41947089, 47.53579974, 46.28243691])"
      ]
     },
     "execution_count": 558,
     "metadata": {},
     "output_type": "execute_result"
    }
   ],
   "source": [
    "model.predict(prepared_data)"
   ]
  },
  {
   "cell_type": "code",
   "execution_count": 559,
   "id": "a20a6e66",
   "metadata": {},
   "outputs": [
    {
     "data": {
      "text/plain": [
       "[38.8, 31.3, 44.0, 56.8, 40.6]"
      ]
     },
     "execution_count": 559,
     "metadata": {},
     "output_type": "execute_result"
    }
   ],
   "source": [
    "list(some_labels)"
   ]
  },
  {
   "cell_type": "markdown",
   "id": "d6544a0f",
   "metadata": {},
   "source": [
    "# Evaluating Model\n"
   ]
  },
  {
   "cell_type": "code",
   "execution_count": 561,
   "id": "59b38b80",
   "metadata": {},
   "outputs": [],
   "source": [
    "from sklearn.metrics import mean_squared_error\n",
    "import numpy as np\n",
    "housing_predictions = model.predict(housing_num_tr)\n",
    "# lin_mse = mean_squared_error(housing_labels, housing_predictions)\n",
    "# lin_rmse = np.sqrt(lin_mse)\n",
    "mse = mean_squared_error(housing_labels, housing_predictions)\n",
    "rmse = np.sqrt(mse)\n"
   ]
  },
  {
   "cell_type": "code",
   "execution_count": 562,
   "id": "90e40564",
   "metadata": {},
   "outputs": [
    {
     "data": {
      "text/plain": [
       "9.232402877029745"
      ]
     },
     "execution_count": 562,
     "metadata": {},
     "output_type": "execute_result"
    }
   ],
   "source": [
    "# lin_mse\n",
    "rmse"
   ]
  },
  {
   "cell_type": "markdown",
   "id": "62dedb11",
   "metadata": {},
   "source": [
    " # Using better Evaluation Technique - Cross Validation\n",
    " "
   ]
  },
  {
   "cell_type": "code",
   "execution_count": 563,
   "id": "7b9bb624",
   "metadata": {},
   "outputs": [],
   "source": [
    "#1 2 3 4 5 6 7 8 9 10\n",
    "from sklearn.model_selection import cross_val_score\n",
    "scores =cross_val_score(model, housing_tr, housing_labels, scoring=\"neg_mean_squared_error\", cv=10 )\n",
    "rmse_scores = np.sqrt(-scores)"
   ]
  },
  {
   "cell_type": "code",
   "execution_count": 564,
   "id": "f816115b",
   "metadata": {},
   "outputs": [
    {
     "data": {
      "text/plain": [
       "array([15.49333487, 10.24747663, 10.46708079,  6.58269923,  5.72845911,\n",
       "        7.48311807,  8.97893301,  9.69098842,  7.8125333 ,  8.43476559])"
      ]
     },
     "execution_count": 564,
     "metadata": {},
     "output_type": "execute_result"
    }
   ],
   "source": [
    "rmse_scores"
   ]
  },
  {
   "cell_type": "code",
   "execution_count": 565,
   "id": "2e51cb02",
   "metadata": {},
   "outputs": [],
   "source": [
    "def print_scores(scores):\n",
    "    print(\"scores:\", scores)\n",
    "    print(\"mean:\", scores.mean())\n",
    "    print(\"standard deviation: \", scores.std())    "
   ]
  },
  {
   "cell_type": "code",
   "execution_count": 566,
   "id": "f3611919",
   "metadata": {},
   "outputs": [
    {
     "name": "stdout",
     "output_type": "stream",
     "text": [
      "scores: [15.49333487 10.24747663 10.46708079  6.58269923  5.72845911  7.48311807\n",
      "  8.97893301  9.69098842  7.8125333   8.43476559]\n",
      "mean: 9.09193890019931\n",
      "standard deviation:  2.585384373370673\n"
     ]
    }
   ],
   "source": [
    "print_scores(rmse_scores)"
   ]
  },
  {
   "cell_type": "markdown",
   "id": "71618e22",
   "metadata": {},
   "source": [
    "# Saving the Model\n"
   ]
  },
  {
   "cell_type": "markdown",
   "id": "8961830c",
   "metadata": {},
   "source": [
    "from joblib import dump, load\n",
    "dump(model, \"Real_Estate.joblib\")"
   ]
  },
  {
   "cell_type": "markdown",
   "id": "d012a255",
   "metadata": {},
   "source": [
    "# Testing the Model"
   ]
  },
  {
   "cell_type": "code",
   "execution_count": 570,
   "id": "2d0aa268",
   "metadata": {},
   "outputs": [
    {
     "name": "stdout",
     "output_type": "stream",
     "text": [
      "[12.45187979 38.06988549 41.03055976  5.80937001 40.5367514  42.21149797\n",
      " 44.60089657 43.99145427 40.07157544 41.37322101 39.32652549 47.07240531\n",
      " 53.28150417 50.57872856 46.86976877 31.23441659 41.4177004  16.85728558\n",
      " 46.18291749 42.7008715  46.96058432 43.11834665 47.66580648 38.39664995\n",
      " 46.64993386 53.00979953  9.25985826 42.53787625 43.51724667 51.1407341\n",
      " 44.27266826 46.9351197  44.01859995 37.37888299 50.26859676 31.28305049\n",
      " 51.78763883 32.41173255 45.71077812 46.20809794 35.97080952 47.95296245\n",
      " 11.55013448 44.21882332 30.26915382 49.13547596 45.66949701 40.83961529\n",
      " 44.19378432 54.20974737 47.27291282 43.32544326 44.70335721 50.4363225\n",
      " 47.89612793 14.72095135 46.78197917 43.79259749 34.34629822 13.06207351\n",
      " 45.03789676 24.8381971  13.18299846 38.56894614 37.85724733 47.83764404\n",
      " 34.40878248 44.19670842 43.07272042 39.49612025 40.89621325 30.48562491\n",
      " 40.11384425 15.62299221 13.42759435 45.44395742 27.99677155 45.49776088\n",
      " 37.2014276  39.53415253 42.13546856 42.39728024 47.49028506] [14.4, 40.6, 34.1, 15.0, 42.2, 40.2, 45.5, 43.5, 30.0, 40.9, 24.5, 41.4, 62.2, 46.6, 48.2, 27.7, 40.8, 18.3, 42.8, 33.6, 42.3, 39.3, 45.4, 35.3, 57.4, 58.1, 13.2, 44.3, 40.2, 55.9, 53.0, 50.7, 48.0, 30.7, 56.3, 23.2, 44.9, 27.7, 43.4, 43.2, 30.5, 71.0, 17.4, 42.3, 20.9, 52.2, 47.4, 35.5, 52.5, 59.0, 45.1, 47.0, 42.0, 70.1, 51.0, 16.7, 53.3, 40.6, 21.3, 12.8, 55.0, 24.8, 29.3, 36.8, 35.1, 47.1, 30.8, 41.0, 46.1, 42.7, 32.5, 31.3, 32.9, 24.7, 22.1, 57.1, 18.3, 45.5, 31.1, 42.5, 42.5, 44.2, 53.9]\n"
     ]
    }
   ],
   "source": [
    "X_test = strat_test_set.drop(\"Y house price of unit area\", axis =1)\n",
    "Y_test = strat_test_set[\"Y house price of unit area\"].copy()\n",
    "X_test_prepared = my_pipeline.transform(X_test)\n",
    "final_prediction = model.predict(X_test_prepared)\n",
    "final_mse = mean_squared_error(y_test, final_prediction)\n",
    "final_rmse = np.sqrt(final_mse)\n",
    "# print(final_prediction, list(Y_test))"
   ]
  },
  {
   "cell_type": "code",
   "execution_count": 572,
   "id": "73ad87d2",
   "metadata": {},
   "outputs": [
    {
     "data": {
      "text/plain": [
       "6.743453163702843"
      ]
     },
     "execution_count": 572,
     "metadata": {},
     "output_type": "execute_result"
    }
   ],
   "source": [
    "final_rmse"
   ]
  },
  {
   "cell_type": "code",
   "execution_count": 573,
   "id": "cb4042c8",
   "metadata": {},
   "outputs": [
    {
     "data": {
      "text/plain": [
       "array([-1.50892654, -0.52647856,  1.90984256, -0.50358142,  0.02657439,\n",
       "        0.36450366,  0.3557868 ])"
      ]
     },
     "execution_count": 573,
     "metadata": {},
     "output_type": "execute_result"
    }
   ],
   "source": [
    "prepared_data[0]"
   ]
  },
  {
   "cell_type": "markdown",
   "id": "2879fc4d",
   "metadata": {},
   "source": [
    "# Using the Model"
   ]
  },
  {
   "cell_type": "code",
   "execution_count": 577,
   "id": "55bec2dd",
   "metadata": {},
   "outputs": [
    {
     "data": {
      "text/plain": [
       "array([16.37572726])"
      ]
     },
     "execution_count": 577,
     "metadata": {},
     "output_type": "execute_result"
    }
   ],
   "source": [
    "from joblib import dump,load\n",
    "import numpy as np\n",
    "model=load(\"Real_Estate.joblib\")\n",
    "\n",
    "features= np.array([[-11.546927854, -0.52647856,  9.90984256, -0.50358142,  0.02657439,\n",
    "        0.36450366,  0.3557868 ]])\n",
    "model.predict(features)"
   ]
  },
  {
   "cell_type": "code",
   "execution_count": null,
   "id": "a5aeced5",
   "metadata": {},
   "outputs": [],
   "source": []
  }
 ],
 "metadata": {
  "kernelspec": {
   "display_name": "Python 3 (ipykernel)",
   "language": "python",
   "name": "python3"
  },
  "language_info": {
   "codemirror_mode": {
    "name": "ipython",
    "version": 3
   },
   "file_extension": ".py",
   "mimetype": "text/x-python",
   "name": "python",
   "nbconvert_exporter": "python",
   "pygments_lexer": "ipython3",
   "version": "3.10.9"
  }
 },
 "nbformat": 4,
 "nbformat_minor": 5
}
