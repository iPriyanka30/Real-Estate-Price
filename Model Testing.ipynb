{
 "cells": [
  {
   "cell_type": "code",
   "execution_count": 10,
   "id": "5fdc4355",
   "metadata": {},
   "outputs": [],
   "source": [
    "from joblib import dump,load\n",
    "import numpy as np\n",
    "model=load(\"Real_Estate.joblib\")\n",
    "\n",
    "features= np.array([[-11.546927854, -0.52647856,  9.90984256, -0.50358142,  0.02657439,\n",
    "        0.36450366,  0.3557868 ]])\n",
    "model.predict(features)"
   ]
  },
  {
   "cell_type": "code",
   "execution_count": 19,
   "id": "58eda2c0",
   "metadata": {},
   "outputs": [
    {
     "data": {
      "text/plain": [
       "array([16.37572726])"
      ]
     },
     "execution_count": 19,
     "metadata": {},
     "output_type": "execute_result"
    }
   ],
   "source": []
  },
  {
   "cell_type": "code",
   "execution_count": null,
   "id": "a348b382",
   "metadata": {},
   "outputs": [],
   "source": []
  }
 ],
 "metadata": {
  "kernelspec": {
   "display_name": "Python 3 (ipykernel)",
   "language": "python",
   "name": "python3"
  },
  "language_info": {
   "codemirror_mode": {
    "name": "ipython",
    "version": 3
   },
   "file_extension": ".py",
   "mimetype": "text/x-python",
   "name": "python",
   "nbconvert_exporter": "python",
   "pygments_lexer": "ipython3",
   "version": "3.10.9"
  }
 },
 "nbformat": 4,
 "nbformat_minor": 5
}
